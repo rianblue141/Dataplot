{
 "cells": [
  {
   "cell_type": "code",
   "execution_count": 1,
   "id": "8e8803f9-f519-454a-bfc9-5c12e2cf6fe8",
   "metadata": {},
   "outputs": [],
   "source": [
    "import pandas as pd\n",
    "import matplotlib.pyplot as plt\n",
    "import numpy as np"
   ]
  },
  {
   "cell_type": "code",
   "execution_count": 2,
   "id": "bd2b5808-0e59-4b35-b751-eca8fd676da0",
   "metadata": {},
   "outputs": [
    {
     "name": "stdout",
     "output_type": "stream",
     "text": [
      "Keys and Values in myDictionary:\n",
      "Michael: Management\n",
      "Dwight: Sales\n",
      "Jim: Sales\n",
      "Pam: Sales\n",
      "Oscar: Accounting\n",
      "Peter: Reception\n",
      "\n",
      "New dictionary with departments as keys:\n",
      "{'Management': ['Michael'], 'Sales': ['Dwight', 'Jim', 'Pam'], 'Accounting': ['Oscar'], 'Reception': ['Peter']}\n"
     ]
    }
   ],
   "source": [
    "# Initialize dictionary\n",
    "myDictionary = {\n",
    "    \"Michael\": \"Management\",\n",
    "    \"Dwight\": \"Sales\",\n",
    "    \"Jim\": \"Sales\",\n",
    "    \"Pam\": \"Reception\",\n",
    "    \"Oscar\": \"Accounting\"\n",
    "}\n",
    "\n",
    "# Update Pam's department to 'Sales'\n",
    "myDictionary[\"Pam\"] = \"Sales\"\n",
    "\n",
    "# Hire Peter into the Reception department\n",
    "myDictionary[\"Peter\"] = \"Reception\"\n",
    "\n",
    "# Output keys and values from myDictionary\n",
    "print(\"Keys and Values in myDictionary:\")\n",
    "for name, department in myDictionary.items():\n",
    "    print(f\"{name}: {department}\")\n",
    "\n",
    "# Create a new dictionary with departments as keys and personnel as values\n",
    "department_dict = {}\n",
    "for name, department in myDictionary.items():\n",
    "    if department not in department_dict:\n",
    "        department_dict[department] = []\n",
    "    department_dict[department].append(name)\n",
    "\n",
    "# Display the new dictionary\n",
    "print(\"\\nNew dictionary with departments as keys:\")\n",
    "print(department_dict)"
   ]
  },
  {
   "cell_type": "code",
   "execution_count": 3,
   "id": "ffe4ca9a-72d8-4e98-b803-751b84d534c0",
   "metadata": {},
   "outputs": [
    {
     "name": "stdout",
     "output_type": "stream",
     "text": [
      "Initial myList:\n",
      "['Michael', 'Dwight', 'Jim', 'Pam', 'Oscar', 'Peter']\n",
      "\n",
      "Updated myList after Michael's resignation:\n",
      "Dwight\n",
      "Jim\n",
      "Pam\n",
      "Oscar\n",
      "Peter\n"
     ]
    }
   ],
   "source": [
    "# Create list \n",
    "myList = list(myDictionary.keys())\n",
    "\n",
    "# Output list\n",
    "print(\"Initial myList:\")\n",
    "print(myList)\n",
    "\n",
    "# Remove Michael\n",
    "myList.remove(\"Michael\")\n",
    "\n",
    "# Print each element of myList on its own line\n",
    "print(\"\\nUpdated myList after Michael's resignation:\")\n",
    "for person in myList:\n",
    "    print(person)"
   ]
  },
  {
   "cell_type": "code",
   "execution_count": 4,
   "id": "92747919-493a-4706-88fd-3113f187bc4a",
   "metadata": {},
   "outputs": [
    {
     "name": "stdout",
     "output_type": "stream",
     "text": [
      "Data types of coulmns:\n",
      " MedInc        float64\n",
      "HouseAge        int64\n",
      "AveRooms      float64\n",
      "AveBedrms     float64\n",
      "Population      int64\n",
      "AveOccup      float64\n",
      "Latitude      float64\n",
      "Longitude     float64\n",
      "dtype: object\n",
      "\n",
      "Original last five rows:\n",
      "        MedInc  HouseAge  AveRooms  AveBedrms  Population  AveOccup  Latitude  \\\n",
      "20635  1.5603        25  5.045455   1.133333         845  2.560606     39.48   \n",
      "20636  2.5568        18  6.114035   1.315789         356  3.122807     39.49   \n",
      "20637  1.7000        17  5.205543   1.120092        1007  2.325635     39.43   \n",
      "20638  1.8672        18  5.329513   1.171920         741  2.123209     39.43   \n",
      "20639  2.3886        16  5.254717   1.162264        1387  2.616981     39.37   \n",
      "\n",
      "       Longitude  \n",
      "20635    -121.09  \n",
      "20636    -121.21  \n",
      "20637    -121.22  \n",
      "20638    -121.32  \n",
      "20639    -121.24   \n",
      "\n",
      "Updated DataFrame with 5 random rows:\n",
      "\n",
      "          MedInc  HouseAge  AveRooms  AveBedrms  Population  AveOccup  \\\n",
      "20640   3.357921        29  2.939723   1.366594        2559  1.724568   \n",
      "20641  14.597228        27  3.072159   2.781440        8109  3.606984   \n",
      "20642  14.647368        29  3.754494   3.437671        9321  4.791986   \n",
      "20643  11.700439        38  3.305323   4.952827         939  2.906623   \n",
      "20644  14.334292        32  8.605088   2.535648         233  4.949008   \n",
      "\n",
      "        Latitude   Longitude  \n",
      "20640  37.452601 -124.962042  \n",
      "20641  40.827015 -124.718510  \n",
      "20642  34.943985 -122.131047  \n",
      "20643  37.099597 -120.045353  \n",
      "20644  39.411757 -124.733112  \n"
     ]
    }
   ],
   "source": [
    "df = pd.read_csv('California Housing.csv')\n",
    "print(\"Data types of coulmns:\\n\", df.dtypes)\n",
    "print(\"\\nOriginal last five rows:\\n\", df.tail(), \"\\n\")\n",
    "\n",
    "def add_random_rows(df, num_rows=5):\n",
    "    \"\"\"Generate and append random rows to the DataFrame with appropriate data types.\"\"\"\n",
    "    new_data = pd.DataFrame({\n",
    "        \"MedInc\": np.random.uniform(1.0, 15.0, num_rows),\n",
    "        \"HouseAge\": np.random.randint(1, 52, num_rows),\n",
    "        \"AveRooms\": np.random.uniform(1.0, 10.0, num_rows),\n",
    "        \"AveBedrms\": np.random.uniform(1.0, 5.0, num_rows),\n",
    "        \"Population\": np.random.randint(100, 10000, num_rows),\n",
    "        \"AveOccup\": np.random.uniform(1.0, 6.0, num_rows),\n",
    "        \"Latitude\": np.random.uniform(32.0, 42.0, num_rows),\n",
    "        \"Longitude\": np.random.uniform(-125.0, -115.0, num_rows)\n",
    "    })\n",
    "\n",
    "    # Append the new data and return the updated DataFrame\n",
    "    return pd.concat([df, new_data], ignore_index=True)\n",
    "\n",
    "# Update the DataFrame with five random rows\n",
    "df = add_random_rows(df)\n",
    "\n",
    "print(\"Updated DataFrame with 5 random rows:\\n\")\n",
    "print(df.tail())"
   ]
  },
  {
   "cell_type": "code",
   "execution_count": 5,
   "id": "aca5e3d5-ca12-472d-b8a7-ddd5a3ec5168",
   "metadata": {},
   "outputs": [
    {
     "name": "stdout",
     "output_type": "stream",
     "text": [
      "Updated DataFrame with Description column:\n",
      "       HouseAge  AveRooms  AveBedrms  \\\n",
      "20640        29  2.939723   1.366594   \n",
      "20641        27  3.072159   2.781440   \n",
      "20642        29  3.754494   3.437671   \n",
      "20643        38  3.305323   4.952827   \n",
      "20644        32  8.605088   2.535648   \n",
      "\n",
      "                                             Description  \n",
      "20640  On average, houses in this block group have 29...  \n",
      "20641  On average, houses in this block group have 27...  \n",
      "20642  On average, houses in this block group have 29...  \n",
      "20643  On average, houses in this block group have 38...  \n",
      "20644  On average, houses in this block group have 32...  \n"
     ]
    }
   ],
   "source": [
    "# For loop in zip, columns\n",
    "df['Description'] = [\n",
    "    f\"On average, houses in this block group have {house_age} years of age, {ave_rooms:.2f} rooms, and {ave_bedrms:.2f} bedrooms.\"\n",
    "    for house_age, ave_rooms, ave_bedrms in zip(df['HouseAge'], df['AveRooms'], df['AveBedrms'])\n",
    "]\n",
    "\n",
    "# Display the updated DataFrame\n",
    "print(\"Updated DataFrame with Description column:\")\n",
    "print(df[['HouseAge', 'AveRooms', 'AveBedrms', 'Description']].tail())"
   ]
  },
  {
   "cell_type": "code",
   "execution_count": 6,
   "id": "70372ef6-1cf1-4288-9b98-3c4a050917b3",
   "metadata": {},
   "outputs": [
    {
     "name": "stdout",
     "output_type": "stream",
     "text": [
      "Continuous Features:\n",
      "['MedInc', 'HouseAge', 'AveRooms', 'AveBedrms', 'Population', 'AveOccup', 'Latitude', 'Longitude']\n",
      "\n",
      "All Feature Categories:\n",
      "{'non_numeric': [], 'discrete': [], 'continuous': ['MedInc', 'HouseAge', 'AveRooms', 'AveBedrms', 'Population', 'AveOccup', 'Latitude', 'Longitude']}\n",
      "\n",
      "Non-Numeric Features:\n",
      "[]\n"
     ]
    }
   ],
   "source": [
    "def categorize_features(df, output_category=\"continuous\"):\n",
    "    # Initialize lists for each category\n",
    "    non_numeric = []\n",
    "    discrete = []\n",
    "    continuous = []\n",
    "    \n",
    "    # Iterate over each column in the DataFrame\n",
    "    for column in df.columns:\n",
    "        if df[column].dtype == 'object':\n",
    "            # If the column is of type 'object', consider it non-numeric (string-like)\n",
    "            non_numeric.append(column)\n",
    "        elif df[column].dtype == 'int64' or df[column].dtype == 'float64':\n",
    "            # If the column is numeric, determine if it's discrete or continuous\n",
    "            if df[column].nunique() < 20:\n",
    "                discrete.append(column)  # Discrete if it has fewer unique values\n",
    "            else:\n",
    "                continuous.append(column)  # Continuous if it has more unique values\n",
    "\n",
    "    # Return the appropriate list based on the output_category\n",
    "    if output_category == \"non_numeric\":\n",
    "        return non_numeric\n",
    "    elif output_category == \"discrete\":\n",
    "        return discrete\n",
    "    elif output_category == \"continuous\":\n",
    "        return continuous\n",
    "    elif output_category == \"all\":\n",
    "        return {\"non_numeric\": non_numeric, \"discrete\": discrete, \"continuous\": continuous}\n",
    "    else:\n",
    "        raise ValueError(\"Invalid output_category. Choose from 'non_numeric', 'discrete', 'continuous', or 'all'.\")\n",
    "\n",
    "# Test the function with the California Housing DataFrame\n",
    "df = pd.read_csv('California Housing.csv')\n",
    "\n",
    "#continuous features\n",
    "print(\"Continuous Features:\")\n",
    "print(categorize_features(df, \"continuous\"))\n",
    "\n",
    "# all feature categories\n",
    "print(\"\\nAll Feature Categories:\")\n",
    "print(categorize_features(df, \"all\"))\n",
    "\n",
    "# only non-numeric features\n",
    "print(\"\\nNon-Numeric Features:\")\n",
    "print(categorize_features(df, \"non_numeric\"))"
   ]
  },
  {
   "cell_type": "code",
   "execution_count": 7,
   "id": "56b8c1b9-af74-44ed-86ca-6e07725374e2",
   "metadata": {},
   "outputs": [
    {
     "data": {
      "image/png": "[encoded data removed]",
      "text/plain": [
       "<Figure size 800x600 with 1 Axes>"
      ]
     },
     "metadata": {},
     "output_type": "display_data"
    }
   ],
   "source": [
    "# Create the scatterplot\n",
    "plt.figure(figsize=(8, 6))\n",
    "plt.scatter(df['AveRooms'], df['AveBedrms'], color='blue', alpha=0.5)\n",
    "\n",
    "# Label the axes and the plot\n",
    "plt.title('Scatterplot of Average Rooms vs. Average Bedrooms')\n",
    "plt.xlabel('Average Rooms')\n",
    "plt.ylabel('Average Bedrooms')\n",
    "\n",
    "# Show the plot\n",
    "plt.show()"
   ]
  }
 ],
 "metadata": {
  "kernelspec": {
   "display_name": "Python [conda env:base] *",
   "language": "python",
   "name": "conda-base-py"
  },
  "language_info": {
   "codemirror_mode": {
    "name": "ipython",
    "version": 3
   },
   "file_extension": ".py",
   "mimetype": "text/x-python",
   "name": "python",
   "nbconvert_exporter": "python",
   "pygments_lexer": "ipython3",
   "version": "3.12.7"
  }
 },
 "nbformat": 4,
 "nbformat_minor": 5
}
